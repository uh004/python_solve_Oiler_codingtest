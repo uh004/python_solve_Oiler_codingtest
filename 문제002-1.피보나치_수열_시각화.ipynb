{
 "cells": [
  {
   "cell_type": "markdown",
   "id": "d23d209a",
   "metadata": {},
   "source": [
    "# 구현 방법\n",
    "- 파이썬 터틀에서 설정할 수 있는 모양(shape)에 거북이(turtle)가 있으므로, 토끼 대신 거북이로 하자.\n",
    "- 거북이 그림 하나를 거북이 암수 한 쌍이라고 하자.\n",
    "- 각 달에 태어난 거북이의 색깔을 다르게 표시한다.\n",
    "- 각 거북이는 임의의 위치에 표시한다.\n",
    "- 1월부터 12월까지 반복한다.\n",
    "- 각 거북이가 태어난 달을 확인한다.\n",
    "- 두 달이 지났으면 그 달에 태어난 거북이의 수를 증가시킨다.\n",
    "- 현재 월과 거북이 쌍의 총수를 위쪽 화면에 표시한다."
   ]
  },
  {
   "cell_type": "code",
   "execution_count": 1,
   "id": "7b4d27b3",
   "metadata": {},
   "outputs": [],
   "source": [
    "from turtle import Screen, Turtle\n",
    "from random import randint\n",
    "import time\n",
    "\n",
    "# 각 달에 태어난 거북이의 색깔\n",
    "color = (\"white\", \"red\", \"yellow\", \"blue\", \"green\", \"black\", \"pink\", \"cyan\", \"gray\", \"purple\", \"magenta\", \"gold\")\n",
    "\n",
    "# Turtle 클래스를 상속하는 새로운 거북이 클래스\n",
    "# 모양을 거북이로 바꾸고, 임의 위치로 이동하고 임의 방향으로 회전한 상태로 표시한다.\n",
    "# 태어난 달을 속성으로 가진다.\n",
    "class MyTurtle(Turtle):\n",
    "    def __init__(self, month):\n",
    "        super().__init__()\n",
    "        super().hideturtle()\n",
    "        super().shape(\"turtle\")\n",
    "        super().penup()\n",
    "        super().fillcolor(color[month-1])\n",
    "        super().goto(randint(-330, 330), randint(-230, 190))\n",
    "        super().setheading(randint(0, 359))\n",
    "        super().showturtle()\n",
    "        self.month = month # 거북이 한 쌍이 태어난 달\n",
    "\n",
    "def write_count(t, month, nums):\n",
    "    \"\"\"거북이 t가 월(month)과 거북이 쌍의 수(nums)를 표시한다.\"\"\"\n",
    "    t.goto(-360 + 55 * month, 225)\n",
    "    t.write(f\"{month}월\", False, align=\"center\", font = (\"Arial\", 12, \"normal\"))\n",
    "    t.goto(-360 + 55 * month, 205)\n",
    "    t.write(f\"{nums}쌍\", False, align=\"center\", font = (\"Arial\", 12, \"normal\"))\n",
    "\n",
    "# 거북이 화면을 생성하고 설정한다.\n",
    "screen = Screen()\n",
    "screen.setup(width= 700, height=500)\n",
    "screen.title(\"피보나치 수열\")\n",
    "screen.tracer(0) # 화면을 수동으로 갱신하기 위해, 애니메이션을 끈다.\n",
    "\n",
    "# 거북이 우리를 그리고, 월과 거북이 쌍의 수를 표시하는 펜을 생성한다.\n",
    "p = Turtle()\n",
    "p.hideturtle()\n",
    "p.penup()\n",
    "p.goto(-340, 200)\n",
    "p.pendown()\n",
    "for _ in range(2):\n",
    "    p.forward(680)\n",
    "    p.right(90)\n",
    "    p.forward(440)\n",
    "    p.right(90)\n",
    "p.penup()\n",
    "\n",
    "# 거북이 쌍을 저장하는 리스트를 만들고, 1월에 태어난 한 쌍을 추가한다.\n",
    "turtles = [MyTurtle(1)]\n",
    "\n",
    "# 1월부터 12월까지 반복한다.\n",
    "for month in range(1, 13):\n",
    "    children = 0 # 해당 월에 태어난 새끼 쌍의 수를 저장하는 변수\n",
    "    for tu in turtles:\n",
    "        # 태어난 지 두 달이 지난 거북이 한 쌍은 새끼 한 쌍을 낳는다.\n",
    "        if (month - tu.month) >= 2:\n",
    "            children += 1\n",
    "\n",
    "    # 태어난 거북이를 turtles에 추가한다.\n",
    "    for _ in range(children):\n",
    "        turtles.append(MyTurtle(month))\n",
    "\n",
    "    # 월과 토끼 쌍의 수를 표시한다.\n",
    "    write_count(p, month, len(turtles))\n",
    "    screen.update() # 화면을 갱신한다.\n",
    "    time.sleep(1)\n",
    "\n",
    "screen.mainloop()"
   ]
  },
  {
   "cell_type": "code",
   "execution_count": null,
   "id": "b6785ee2",
   "metadata": {},
   "outputs": [],
   "source": []
  },
  {
   "cell_type": "code",
   "execution_count": null,
   "id": "004948eb",
   "metadata": {},
   "outputs": [],
   "source": []
  },
  {
   "cell_type": "code",
   "execution_count": null,
   "id": "2af559f3",
   "metadata": {},
   "outputs": [],
   "source": []
  },
  {
   "cell_type": "code",
   "execution_count": null,
   "id": "9c4ba64f",
   "metadata": {},
   "outputs": [],
   "source": []
  },
  {
   "cell_type": "code",
   "execution_count": null,
   "id": "90460216",
   "metadata": {},
   "outputs": [],
   "source": []
  },
  {
   "cell_type": "code",
   "execution_count": null,
   "id": "f198237b",
   "metadata": {},
   "outputs": [],
   "source": []
  },
  {
   "cell_type": "code",
   "execution_count": null,
   "id": "832f5d18",
   "metadata": {},
   "outputs": [],
   "source": []
  },
  {
   "cell_type": "code",
   "execution_count": null,
   "id": "eccfe9c1",
   "metadata": {},
   "outputs": [],
   "source": []
  },
  {
   "cell_type": "code",
   "execution_count": null,
   "id": "79dce66b",
   "metadata": {},
   "outputs": [],
   "source": []
  }
 ],
 "metadata": {
  "kernelspec": {
   "display_name": "Python 3 (ipykernel)",
   "language": "python",
   "name": "python3"
  },
  "language_info": {
   "codemirror_mode": {
    "name": "ipython",
    "version": 3
   },
   "file_extension": ".py",
   "mimetype": "text/x-python",
   "name": "python",
   "nbconvert_exporter": "python",
   "pygments_lexer": "ipython3",
   "version": "3.9.13"
  }
 },
 "nbformat": 4,
 "nbformat_minor": 5
}
