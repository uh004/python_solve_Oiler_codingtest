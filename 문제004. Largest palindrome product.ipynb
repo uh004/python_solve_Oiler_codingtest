{
 "cells": [
  {
   "cell_type": "markdown",
   "id": "793539cc",
   "metadata": {},
   "source": [
    "# 문제 설명\n",
    "- 대칭수(palindromic number)는 왼쪽에서 읽거나 오른쪽에서 읽어도 값이 같다. 두 자릿수 두 개를 곱해 만들 수 있는 가장 큰 대칭수는 9009 = 91 × 99이다."
   ]
  },
  {
   "cell_type": "markdown",
   "id": "b3e7f1b2",
   "metadata": {},
   "source": [
    "# 문자열의 슬라이싱을 이용하여 풀기\n",
    "- 가장 큰 대칭수를 구하는 것이므로 999부터 100까지 거꾸로 계산하자.\n",
    "1. answer = 0\n",
    "2. 첫째 수는 999부터 100까지 반복\n",
    "3. 둘째 수는 첫 번째 수부터 100까지 반복\n",
    "4. 두 수의 곱이 기존 답(answer)보다 크고, 대칭수이면 answer에 대입\n",
    "5. answer를 반환"
   ]
  },
  {
   "cell_type": "code",
   "execution_count": 3,
   "id": "6042a9e7",
   "metadata": {},
   "outputs": [
    {
     "name": "stdout",
     "output_type": "stream",
     "text": [
      "906609\n"
     ]
    }
   ],
   "source": [
    "def Q4_v1():\n",
    "    # 세 자릿수 두 개를 곱해 만들 수 있는 가장 큰 대칭수를 찾는다.\n",
    "    answer = 0\n",
    "    for f in range(999, 99, -1):\n",
    "        for s in range(f, 99, -1):\n",
    "            if (m := f * s) > answer and str(m) == str(m)[::-1]:\n",
    "                answer = m\n",
    "    return answer\n",
    "\n",
    "if __name__ == '__main__':\n",
    "    print(Q4_v1())"
   ]
  },
  {
   "cell_type": "markdown",
   "id": "8bc010ff",
   "metadata": {},
   "source": [
    "# 반복 실행 횟수 줄이기\n",
    "- 위의 함수는 이중 반복문으로 세 자릿수 전체를 돌면서 연산하지만, 그럴 필요없다. 900 ~ 999 사이의 두 수를 곱해서 얻은 최솟값은 800 ~ 899 사이의 두 수를 곱해서 얻은 최댓값보다 크다. 따라서 900번 대에서 가장 큰 대칭수를 찾았다면, 800번 대를 계산할 필요없다.\n",
    "1. for 문을 이용하여 900번대, 800번대처럼 100 단위로 나눠서 반복한다.\n",
    "2. 대칭수를 찾았다면, 반복문을 벗어난다."
   ]
  },
  {
   "cell_type": "code",
   "execution_count": 4,
   "id": "e7efd24f",
   "metadata": {},
   "outputs": [
    {
     "name": "stdout",
     "output_type": "stream",
     "text": [
      "906609\n"
     ]
    }
   ],
   "source": [
    "def Q4_v2():\n",
    "    #세 자릿수 두 개를 곱해 만들 수 있는 가장 큰 대칭수를 찾는다.\n",
    "    answer = 0\n",
    "    for start in range(999, 99, -100):\n",
    "        last = start - 100\n",
    "        for f in range(start, last, -1):\n",
    "            for s in range(f, last, -1):\n",
    "                if (m := f * s) > answer and str(m) == str(m)[::-1]:\n",
    "                    answer = m\n",
    "        if answer:\n",
    "            break\n",
    "    return answer\n",
    "\n",
    "if __name__ == \"__main__\":\n",
    "    print(Q4_v2())\n"
   ]
  },
  {
   "cell_type": "markdown",
   "id": "67d3e9d8",
   "metadata": {},
   "source": [
    "# 수를 직접 뒤집어 대칭수인지 확인하기\n",
    "- 위에서는 수를 문자열로 변환하고, 문자열을 다시 뒤집어서 대칭수인지 확인하고 있다. 속도 개선 여부와 관계없이 수를 문자열로 변환하지 않고 직접 뒤집어 보자."
   ]
  },
  {
   "cell_type": "code",
   "execution_count": 5,
   "id": "bd90ddf7",
   "metadata": {},
   "outputs": [
    {
     "name": "stdout",
     "output_type": "stream",
     "text": [
      "Is 121 palindrome?  True\n",
      "Is 123 palindrome?  False\n",
      "Is 1221 palindrome?  True\n",
      "Is 1231 palindrome?  False\n"
     ]
    }
   ],
   "source": [
    "def is_palindrome(n):\n",
    "    original_n, reversed_n = n, 0\n",
    "    while n:\n",
    "        n, r = divmod(n, 10)\n",
    "        reversed_n = reversed_n * 10 + r\n",
    "    if original_n == reversed_n:\n",
    "        return True\n",
    "    else:\n",
    "        return False\n",
    "\n",
    "if __name__ == \"__main__\":\n",
    "    for n in (121, 123, 1221, 1231):\n",
    "        print(f\"Is {n} palindrome? \", is_palindrome(n))"
   ]
  }
 ],
 "metadata": {
  "kernelspec": {
   "display_name": "Python 3 (ipykernel)",
   "language": "python",
   "name": "python3"
  },
  "language_info": {
   "codemirror_mode": {
    "name": "ipython",
    "version": 3
   },
   "file_extension": ".py",
   "mimetype": "text/x-python",
   "name": "python",
   "nbconvert_exporter": "python",
   "pygments_lexer": "ipython3",
   "version": "3.9.13"
  }
 },
 "nbformat": 4,
 "nbformat_minor": 5
}
