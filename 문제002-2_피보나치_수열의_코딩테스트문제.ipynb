{
 "cells": [
  {
   "cell_type": "markdown",
   "id": "6cc851ef",
   "metadata": {},
   "source": [
    "# 피보나치 수열의 코딩 테스트 문제"
   ]
  },
  {
   "cell_type": "markdown",
   "id": "24459c2d",
   "metadata": {},
   "source": [
    "효진이는 멀리 뛰기를 연습하고 있습니다. 효진이는 한번에 1칸, 또는 2칸을 뛸 수 있습니다. 칸이 총 4개 있을 때, 효진이는\n",
    "- (1칸, 1칸, 1칸, 1칸)\n",
    "- (1칸, 2칸, 1칸)\n",
    "- (1칸, 1칸, 2칸)\n",
    "- (2칸, 1칸, 1칸)\n",
    "- (2칸, 2칸)\n",
    "의 5가지 방법으로 맨 끝 칸에 도달할 수 있습니다.\n",
    "\n",
    "멀리뛰기에 사용될 칸의 수 n이 주어질 때, 효진이가 끝에 도달하는 방법이 몇 \n",
    "가지인지 알아내, 여기에 1234567를 나눈 나머지를 리턴하는 함수, solution을 \n",
    "완성하세요. 예를 들어 4가 입력된다면, 5를 return하면 됩니다."
   ]
  },
  {
   "cell_type": "markdown",
   "id": "12d9b795",
   "metadata": {},
   "source": [
    "# 여기서는 조금 다른 재귀 함수로 풀어 본다.\n",
    "\n",
    "- 계단을 한 개나 두 개 오른다.\n",
    "- 올라가야 할 남은 계단을 계산한다.\n",
    "- 남은 계단이 0이면 계단을 다 올라왔으므로, 경우의 수를 추가한다.\n",
    "- 남은 계단이 음수이면, 지금까지 올라온 방법을 사용할 수 없다.\n",
    "- 남은 계단이 있으면 처음 과정으로 돌아가서 반복한다. → 재귀 호출"
   ]
  },
  {
   "cell_type": "code",
   "execution_count": 1,
   "id": "6349d851",
   "metadata": {},
   "outputs": [
    {
     "name": "stdout",
     "output_type": "stream",
     "text": [
      "1 2 3 5 8 "
     ]
    }
   ],
   "source": [
    "def find_path(steps):\n",
    "    if steps == 0:\n",
    "        return 1\n",
    "    elif steps < 0:\n",
    "        return 0\n",
    "    res = 0\n",
    "    for i in (1, 2): # 계단을 오르는 방법은 하나나 두 개만 오를 수 있다.\n",
    "        res += find_path(steps - i) # 계단을 오른 후에 남은 계단을 올라간다.\n",
    "    return res\n",
    "\n",
    "for i in range(1, 6): #한 계단부터 다섯 계단까지 오를 수 있는 가짓수를 계산하여 출력한다.\n",
    "    print(find_path(i), end=\" \")"
   ]
  }
 ],
 "metadata": {
  "kernelspec": {
   "display_name": "Python 3 (ipykernel)",
   "language": "python",
   "name": "python3"
  },
  "language_info": {
   "codemirror_mode": {
    "name": "ipython",
    "version": 3
   },
   "file_extension": ".py",
   "mimetype": "text/x-python",
   "name": "python",
   "nbconvert_exporter": "python",
   "pygments_lexer": "ipython3",
   "version": "3.9.13"
  }
 },
 "nbformat": 4,
 "nbformat_minor": 5
}
