{
 "cells": [
  {
   "cell_type": "markdown",
   "id": "863db506",
   "metadata": {},
   "source": [
    "# 문제 설명\n",
    "### 10보다 작은 3과 5의 배수를 모두 나열하면 3,5,6,7이다. 그리고 이 배수를 모두 더하면 23이다.\n",
    "### 1000보다 작은 3의 배수와 5의 배수를 모두 더한 값을 얼마인가?"
   ]
  },
  {
   "cell_type": "markdown",
   "id": "f065ef47",
   "metadata": {},
   "source": [
    "# 문제 분석과 Solution 함수 만들기\n",
    "- 어떤 수 A의 배수(mutiple)는 A에 정수를 곱한 값이다. 반대로 말하면 A의 배수를 A로 나누면 몫은 정수이고, 나머지는 0이다. 따라서 1,000 미만의 수가 3이나 5로 나누어 떨어지는지 확인해서 더한다."
   ]
  },
  {
   "cell_type": "markdown",
   "id": "834971df",
   "metadata": {},
   "source": [
    "# 나머지 연산을 이용하여 풀기 <- 대부분 이방법"
   ]
  },
  {
   "cell_type": "code",
   "execution_count": 20,
   "id": "a65ccdd7",
   "metadata": {},
   "outputs": [
    {
     "name": "stdout",
     "output_type": "stream",
     "text": [
      "23\n",
      "233168\n"
     ]
    }
   ],
   "source": [
    "def Q1_v1(n):\n",
    "    # n 미만의 3이나 5의 배수를 모두 더한 합을 구한다.\n",
    "    answer = 0\n",
    "    for i in range(1, n):\n",
    "        if (i % 3 ==0) or (i % 5 == 0):\n",
    "            answer += i\n",
    "    return answer\n",
    "\n",
    "if __name__ == '__main__':\n",
    "    print(Q1_v1(10))\n",
    "    print(Q1_v1(1000))"
   ]
  },
  {
   "cell_type": "markdown",
   "id": "8e2546a0",
   "metadata": {},
   "source": [
    "# 객체의 논리값을 이용하여 풀기 \n",
    "- 파이썬의 모든 객체는 논리값(True, False)을 계산할 수 있다. 따라서 if나 while 조건문 및 논리 연산에 사용할 때, 아래 객체는 False로 취급하고 그 외는 True로 취급한다. "
   ]
  },
  {
   "cell_type": "markdown",
   "id": "f96e11d2",
   "metadata": {},
   "source": [
    "- 거짓으로 정의된 상수: None 과 False\n",
    "- 숫자형의 0: 0, 0.0, 0j, Decimal(0), Fraction(0, 1)\n",
    "- 빈 시퀀스와 컬렉션: '', (), [], {}, set(), range(0)"
   ]
  },
  {
   "cell_type": "code",
   "execution_count": 21,
   "id": "15125fc8",
   "metadata": {},
   "outputs": [
    {
     "name": "stdout",
     "output_type": "stream",
     "text": [
      "23\n",
      "233168\n"
     ]
    }
   ],
   "source": [
    "def Q1_v2(n):\n",
    "    # n 미만의 3이나 5의 배수를 모두 더한 합을 구한다.\n",
    "    answer = 0\n",
    "    for i in range(1, n):\n",
    "        if (not i % 3) or (not i % 5):\n",
    "            answer += i\n",
    "    return answer\n",
    "\n",
    "print(Q1_v2(10))\n",
    "print(Q1_v2(1000))"
   ]
  },
  {
   "cell_type": "markdown",
   "id": "9855dcef",
   "metadata": {},
   "source": [
    "- 예를 들어 i가 3의 배수이면 나머지(i % 3)는 0이다. 0의 논리값은 False다. 따라서 i가 3의 배수이면 not i % 3은 True이다. 익숙하지 않은 방식이지만, not i % 3을 n을 3으로 나눈 나머지가 없다(나머지가 0이다)로 읽으면 이해하기가 조금 쉽다."
   ]
  },
  {
   "cell_type": "markdown",
   "id": "f1e87c82",
   "metadata": {},
   "source": [
    "# 집합을 이용하여 풀기\n",
    "### 만일 어떤 수의 배수를 구하는 일이 자주 있다면, 함수를 별도로 만드는 것이 쓸모 있을 것이다. 어떤 수의 배수를 모두 구하여 리스트로 반환하는 함수를 만들고, 이를 이용하여 문제의 답을 구하는 방법을 생각해 보자.\n",
    "### 3과 5의 배수를 구하여 집합으로 바꾼 후에 합집합을 구하고, 이 합집합의 원소를 모두 더하면 문제의 답이다. 구현해 보자."
   ]
  },
  {
   "cell_type": "code",
   "execution_count": 22,
   "id": "c9494da2",
   "metadata": {},
   "outputs": [
    {
     "name": "stdout",
     "output_type": "stream",
     "text": [
      "23\n",
      "233168\n"
     ]
    }
   ],
   "source": [
    "def get_multiples(n, number):\n",
    "    # n 미만의 number의 배수를 리스트로 반환한다.\n",
    "    return [i for i in range(number, n, number)]\n",
    "\n",
    "def Q1_v3(n):\n",
    "    # n 미만의 3이나 5의 배수를 모드 더한 합을 구한다.\n",
    "    multiples_of_3 = get_multiples(n, 3)\n",
    "    multiples_of_5 = get_multiples(n, 5)\n",
    "    return sum(set(multiples_of_3) | set(multiples_of_5))\n",
    "\n",
    "print(Q1_v3(10))\n",
    "print(Q1_v3(1000))"
   ]
  }
 ],
 "metadata": {
  "kernelspec": {
   "display_name": "Python 3 (ipykernel)",
   "language": "python",
   "name": "python3"
  },
  "language_info": {
   "codemirror_mode": {
    "name": "ipython",
    "version": 3
   },
   "file_extension": ".py",
   "mimetype": "text/x-python",
   "name": "python",
   "nbconvert_exporter": "python",
   "pygments_lexer": "ipython3",
   "version": "3.9.13"
  }
 },
 "nbformat": 4,
 "nbformat_minor": 5
}
