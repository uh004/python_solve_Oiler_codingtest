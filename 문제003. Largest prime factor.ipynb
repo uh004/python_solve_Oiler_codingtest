{
 "cells": [
  {
   "cell_type": "markdown",
   "id": "3431d9dc",
   "metadata": {},
   "source": [
    "# 문제 설명\n",
    "- 13,195의 소인수는 5, 7, 13, 29이다. 600851475143의 가장 큰 소인수는 얼마인가?"
   ]
  },
  {
   "cell_type": "markdown",
   "id": "43d8bc90",
   "metadata": {},
   "source": [
    "# 문제 분석과 Solution 함수 만들기\n",
    "- 먼저 소인수분해를 하자. 소인수분해하려면 2부터 소수(prime)를 찾아서 피제수(나누어지는 수)를 나누어야 하므로, 먼저 제수(나누는 수)가 소수인지 확인하는 함수를 만든다."
   ]
  },
  {
   "cell_type": "markdown",
   "id": "1cda5a60",
   "metadata": {},
   "source": [
    "# 소수 확인하기\n",
    "- 소수는 2, 3, 5, 7처럼 약수가 1과 자기자신 밖에 없는 수다. 어떤 수 n이 소수인지 확인하려면, 2부터 n-1까지의 수로 나누어보면 된다. 나누어떨어지는 수(약수)가 있으면 소수가 아니다."
   ]
  },
  {
   "cell_type": "code",
   "execution_count": 1,
   "id": "cad98478",
   "metadata": {},
   "outputs": [
    {
     "name": "stdout",
     "output_type": "stream",
     "text": [
      "2 3 5 7 11 13 17 19 "
     ]
    }
   ],
   "source": [
    "def is_prime(n):\n",
    "    # n이 소수(prime)이면 True를 반환한다.\n",
    "    if n == 2:\n",
    "        return True\n",
    "    elif not n % 2 or n == 1:\n",
    "        return False\n",
    "    for div in range(3, int(n**0.5) + 1, 2):\n",
    "        if not n % div:\n",
    "            return False\n",
    "    return True\n",
    "\n",
    "if __name__ == '__main__':\n",
    "    for i in range(2, 20):\n",
    "        if is_prime(i):\n",
    "            print(i, end=' ')"
   ]
  },
  {
   "cell_type": "markdown",
   "id": "bff8cacf",
   "metadata": {},
   "source": [
    "# 소인수분해하기\n",
    "1. 2부터 순서대로 소수로 나눈다.\n",
    "2. 나누어떨어지면, 몫을 같은 수로 계속 나눈다.\n",
    "3. 더 이상 나누어떨어지지 않으면, 다음 소수로 나눈다.\n",
    "4. 몫이 1이면 끝이다."
   ]
  },
  {
   "cell_type": "code",
   "execution_count": 2,
   "id": "a6cce192",
   "metadata": {},
   "outputs": [
    {
     "name": "stdout",
     "output_type": "stream",
     "text": [
      "13195 / 5 = 2639\n",
      "2639 / 7 = 377\n",
      "377 / 13 = 29\n",
      "29 / 29 = 1\n",
      "\n",
      "[5, 7, 13, 29]\n"
     ]
    }
   ],
   "source": [
    "def prime_factorization(n):\n",
    "    # n의 소인수를 구하고, 소인수분해 과정을 출력한다.\n",
    "    answer = []\n",
    "    div = 2\n",
    "    while n != 1:\n",
    "        q, r = divmod(n, div)\n",
    "        while not r: # r == 0\n",
    "            print(f\"{n} / {div} = {q}\")\n",
    "            answer.append(div)                \n",
    "            n = q    \n",
    "            q, r = divmod(n, div)\n",
    "        if div == 2:\n",
    "            div = 3\n",
    "        else:\n",
    "            div += 2 #2를 제외한 소수는 홀수이므로 3부터 2씩 증가\n",
    "    return answer\n",
    "\n",
    "if __name__ == \"__main__\":\n",
    "    res = prime_factorization(13195)\n",
    "    print()\n",
    "    print(res)"
   ]
  },
  {
   "cell_type": "markdown",
   "id": "c460d2fc",
   "metadata": {},
   "source": [
    "1. answer = [ ] (소인수를 저장할 변수)\n",
    "2. 제수 div = 2\n",
    "3. n이 1이 될 때까지 반복\n",
    "4. n을 div로 나눈 몫과 나머지를 구한다.\n",
    "5. 나머지가 0이면 계속 반복\n",
    "6. n을 몫(q)으로 갱신\n",
    "7. n을 div로 나눈 몫과 나머지를 구한다.\n",
    "8. 나머지가 0이 아니면 div 증가"
   ]
  }
 ],
 "metadata": {
  "kernelspec": {
   "display_name": "Python 3 (ipykernel)",
   "language": "python",
   "name": "python3"
  },
  "language_info": {
   "codemirror_mode": {
    "name": "ipython",
    "version": 3
   },
   "file_extension": ".py",
   "mimetype": "text/x-python",
   "name": "python",
   "nbconvert_exporter": "python",
   "pygments_lexer": "ipython3",
   "version": "3.9.13"
  }
 },
 "nbformat": 4,
 "nbformat_minor": 5
}
