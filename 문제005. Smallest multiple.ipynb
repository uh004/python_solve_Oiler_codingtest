{
 "cells": [
  {
   "cell_type": "markdown",
   "id": "23bcb7ef",
   "metadata": {},
   "source": [
    "# 문제 설명\n",
    "- 2,520은 1에서 10 사이의 모든 수로 나누어떨어지는 가장 작은 수다. 1에서 20 사이의 모든 수로 나누어떨어지는 가장 작은 양수는 얼마인가? "
   ]
  },
  {
   "cell_type": "markdown",
   "id": "f2eb41cc",
   "metadata": {},
   "source": [
    "# 문제 분석과 Solution 함수 만들기\n",
    "- 나누어떨어진다는 말에서 배수임을 알 수 있고, 배수 중에서 가장 작은 수를 구하라고 했으니 최소공배수(Least Common Multiple)를 구하는 문제다. 최소공배수가 잘 생각나지 않는다면 최소공배수 구하기를 참조하자."
   ]
  },
  {
   "cell_type": "markdown",
   "id": "017e5ec2",
   "metadata": {},
   "source": [
    "# 최소공배수 구하기\n",
    "- 두 수의 최소공배수는 공약수와 서로 소인 수를 모두 곱한 값이다. 세 수 이상의 최소공배수는 서로 소가 나올 때까지 소수로 나눈 후에, 나눌 때 사용한 소수를 모두 곱한 값이다.\n",
    "- 문제 해결을 위해 세 수 이상의 최소공배수를 구하는 방법을 살펴보자. 예를 들어 15, 12, 10의 최소공배수를 구하려면, 모든 수의 몫이 1이 될 때까지 소수로 계속 나눈 후에 왼쪽에 있는 소수를 모두 곱한다. 즉, 15와 12와 10의 최소공배수는 2 × 2 × 3 × 5 = 60이다."
   ]
  },
  {
   "cell_type": "code",
   "execution_count": 6,
   "id": "07e14a7a",
   "metadata": {},
   "outputs": [
    {
     "name": "stdout",
     "output_type": "stream",
     "text": [
      "[2, 2, 2, 3, 3, 5, 7]\n",
      "2520\n"
     ]
    }
   ],
   "source": [
    "def get_lcm(nums):\n",
    "    # 리스트 nums에 담긴 수의 최소공배수를 구한다.\n",
    "    # 최소공배수는 반환되는 리스트의 원소를 모두 곱한 값이다.\n",
    "    answer = []\n",
    "    div = 2\n",
    "    while sum(nums) > len(nums): # 리스트의 합과 길이가 같으면, 모든 원소가 1이다.\n",
    "        any_divided = False # 나누어 떨어지는 수가 있는지 확인할 변수\n",
    "        \n",
    "        for i, n in enumerate(nums):\n",
    "            if not n % div:\n",
    "                nums[i] = n // div #나누어떨어지면, 몫으로 대체\n",
    "                any_divided = True\n",
    "        if any_divided:            #나누어떨어진 수가 있으면\n",
    "            answer.append(div)     #제수인 소수를 저장\n",
    "        else:\n",
    "            div += 1 if div == 2 else 2\n",
    "    return answer\n",
    "\n",
    "if __name__ == \"__main__\":\n",
    "    import math\n",
    "    res = get_lcm(list(range(1, 11)))\n",
    "    print(res)\n",
    "    print(math.prod(res)) # 이터러블 인자를 받아서 모든 요소를 곱한 값을 반환"
   ]
  }
 ],
 "metadata": {
  "kernelspec": {
   "display_name": "Python 3 (ipykernel)",
   "language": "python",
   "name": "python3"
  },
  "language_info": {
   "codemirror_mode": {
    "name": "ipython",
    "version": 3
   },
   "file_extension": ".py",
   "mimetype": "text/x-python",
   "name": "python",
   "nbconvert_exporter": "python",
   "pygments_lexer": "ipython3",
   "version": "3.9.13"
  }
 },
 "nbformat": 4,
 "nbformat_minor": 5
}
