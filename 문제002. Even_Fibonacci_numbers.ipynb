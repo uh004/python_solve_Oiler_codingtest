{
 "cells": [
  {
   "cell_type": "markdown",
   "id": "e3349cf0",
   "metadata": {},
   "source": [
    "# 문제 설명 \n",
    "### 피보나치 수열의 항은 이전 두 개 항을 더한 것이다. 1과 2로 시작할 때, 첫 열개 항은 다음과 같다. 4백만을 초과하지 않는 피보나치 수열에서 짝수 값을 갖는 수를 모두 구해서 더하라."
   ]
  },
  {
   "cell_type": "markdown",
   "id": "b906df89",
   "metadata": {},
   "source": [
    "# 문제 분석과 Solution 함수 만들기\n",
    "### 피보나치 수를 약 4백만까지 구해야 하므로, 재귀함수로 구현하면 오랜 시간이 걸린다. 그러므로 반복문으로 피보나치 수를 구한다. 아래처럼 변수를 세 개 만들고, 피보나치 수열의 규칙에 따라 차례로 더하면서 값을 갱신한다."
   ]
  },
  {
   "cell_type": "markdown",
   "id": "234aec72",
   "metadata": {},
   "source": [
    "- fib1 = 1, fib2 = 2\n",
    "- 반복\n",
    "- fib3 = fib1 + fib2\n",
    "- fib1과 fib2를 fib2와 fib3로 갱신\n",
    "- 정답 변수에 짝수인 둘째 항 2을 대입하고, 셋째 항부터는 위의 반복으로 구한 피보나치 수가 짝수인지 확인하여 정답 변수에 차례로 대입한다."
   ]
  },
  {
   "cell_type": "markdown",
   "id": "b32fda7a",
   "metadata": {},
   "source": [
    "# 반복문을 이용하여 풀기"
   ]
  },
  {
   "cell_type": "code",
   "execution_count": 12,
   "id": "4e128b15",
   "metadata": {},
   "outputs": [
    {
     "name": "stdout",
     "output_type": "stream",
     "text": [
      "44\n"
     ]
    }
   ],
   "source": [
    "def Q2_v1(n):\n",
    "    # n 이하의 피보나치 수열에서 짝수의 합을 구한다.\n",
    "    answer = 2\n",
    "    fib1, fib2 = 1, 2\n",
    "    \n",
    "    while True:\n",
    "        fib3 = fib1 + fib2\n",
    "        if fib3 > n:\n",
    "            return answer\n",
    "        if not fib3 % 2:\n",
    "            answer += fib3\n",
    "        fib1, fib2 = fib2, fib3\n",
    "        \n",
    "if __name__ == '__main__':\n",
    "    print(Q2_v1(100))"
   ]
  },
  {
   "cell_type": "markdown",
   "id": "b570760c",
   "metadata": {},
   "source": [
    "# 피보나치 수열의 규칙 찾기\n",
    "### 함수 중간에 print문을 넣어서 피보나치 수를 출력하자. 값이 1인 첫 번째 항부터 나열하기 위해, fib1 = 0, fib2 = 1로 초기화한다."
   ]
  },
  {
   "cell_type": "code",
   "execution_count": 9,
   "id": "9b5cd438",
   "metadata": {},
   "outputs": [
    {
     "name": "stdout",
     "output_type": "stream",
     "text": [
      " 1번 항 :    0 +    1 =    1\n",
      " 2번 항 :    1 +    1 =    2\n",
      " 3번 항 :    1 +    2 =    3\n",
      " 4번 항 :    2 +    3 =    5\n",
      " 5번 항 :    3 +    5 =    8\n",
      " 6번 항 :    5 +    8 =   13\n",
      " 7번 항 :    8 +   13 =   21\n",
      " 8번 항 :   13 +   21 =   34\n",
      " 9번 항 :   21 +   34 =   55\n",
      "10번 항 :   34 +   55 =   89\n",
      "11번 항 :   55 +   89 =  144\n",
      "12번 항 :   89 +  144 =  233\n",
      "13번 항 :  144 +  233 =  377\n",
      "14번 항 :  233 +  377 =  610\n",
      "15번 항 :  377 +  610 =  987\n"
     ]
    }
   ],
   "source": [
    "def print_fib(n):\n",
    "    # n 이하의 값을 가지는 피보나치 수열을 나열한다.\n",
    "    fib1, fib2 = 0, 1\n",
    "    i = 1\n",
    "    while True:\n",
    "        fib3 = fib1 + fib2\n",
    "        if fib3 > n:\n",
    "            break\n",
    "        print(f'{i:2}번 항 : {fib1:4} + {fib2:4} = {fib3:4}')\n",
    "        fib1, fib2 = fib2, fib3\n",
    "        i += 1\n",
    "        \n",
    "if __name__ == '__main__':\n",
    "    print_fib(1000)\n",
    "# 잘 살펴보면 일정한 간격(2, 5, 8, 11 …)으로 짝수가 나온다. \n",
    "# 둘째 항부터 시작해서 셋째 항마다 짝수가 나온다."
   ]
  },
  {
   "cell_type": "markdown",
   "id": "e2b5d440",
   "metadata": {},
   "source": [
    "# 반복문을 이용한 풀이를 개선하기\n",
    "### 문제처럼 시작 숫자를 1과 2로 하지 않고, 시작 숫자를 1과 1로 하면 아래와 같다. 그러면 3, 6, 9, 12 번 항이 짝수다. 짝수가 나오는 간격이 일정하므로, 짝수인지 확인하는 부분을 생략한다."
   ]
  },
  {
   "cell_type": "markdown",
   "id": "97918b53",
   "metadata": {},
   "source": [
    "### 학교에서 배웠던 것을 떠올려보면, 피보나치 수열에서 3의 간격으로 짝수가 나오는 이유를 알 수 있다.\n",
    "- 짝수 + 짝수 = 짝수\n",
    "- 홀수 + 짝수 = 홀수\n",
    "- 홀수 + 홀수 = 짝수"
   ]
  },
  {
   "cell_type": "code",
   "execution_count": 14,
   "id": "be7f944d",
   "metadata": {},
   "outputs": [
    {
     "name": "stdout",
     "output_type": "stream",
     "text": [
      "798\n"
     ]
    }
   ],
   "source": [
    "def Q2_v2(n):\n",
    "    # n 이하의 피보나치 수열에서 짝수의 합을 구한다.\n",
    "    answer = 0\n",
    "    fib1, fib2 = 1, 1\n",
    "\n",
    "    while True:\n",
    "        fib3 = fib1 + fib2\n",
    "        if fib3 > n:\n",
    "            return answer\n",
    "        else:\n",
    "            answer += fib3\n",
    "        fib1 = fib2 + fib3\n",
    "        fib2 = fib3 + fib1\n",
    "print(Q2_v2(1000))"
   ]
  },
  {
   "cell_type": "markdown",
   "id": "0e1c95ea",
   "metadata": {},
   "source": [
    "# 재귀적으로 피보나치 수 구하기\n",
    "### 재귀 함수를 공부할 때 보통 피보나치 수열이 먼저 나온다. 가장 간단하고 이해하기 쉬워서 그렇다. 문제의 조건대로 1과 2로 시작하는 피보나치 수열을 구하는 재귀 함수를 만들자."
   ]
  },
  {
   "cell_type": "code",
   "execution_count": 15,
   "id": "651508f8",
   "metadata": {},
   "outputs": [
    {
     "name": "stdout",
     "output_type": "stream",
     "text": [
      "1 2 3 5 8 13 21 34 55 "
     ]
    }
   ],
   "source": [
    "def fib(n):\n",
    "    # n번째 피보나치 수를 재귀적으로 구한다.\n",
    "    if n < 3: #첫째 항과 둘째 항의 값은 1, 2\n",
    "        return n\n",
    "    return fib(n-2) + fib(n-1)\n",
    "\n",
    "if __name__ == \"__main__\":\n",
    "    for i in range(1, 10):\n",
    "        print(fib(i), end = \" \")\n",
    "# Python tutor는 실행단계가 999 단계로 제한되어 있어서, \n",
    "# 10번 항의 피보나치 수를 구하지 못한다. 그래서 9번 항까지만 나열했다."
   ]
  }
 ],
 "metadata": {
  "kernelspec": {
   "display_name": "Python 3 (ipykernel)",
   "language": "python",
   "name": "python3"
  },
  "language_info": {
   "codemirror_mode": {
    "name": "ipython",
    "version": 3
   },
   "file_extension": ".py",
   "mimetype": "text/x-python",
   "name": "python",
   "nbconvert_exporter": "python",
   "pygments_lexer": "ipython3",
   "version": "3.9.13"
  }
 },
 "nbformat": 4,
 "nbformat_minor": 5
}
